{
 "cells": [
  {
   "cell_type": "code",
   "execution_count": 1,
   "metadata": {},
   "outputs": [
    {
     "name": "stdout",
     "output_type": "stream",
     "text": [
      "27\n"
     ]
    }
   ],
   "source": [
    "sum = 0\n",
    "for i in range(1,10):\n",
    "    for j in range(1,4):\n",
    "        if not (i%j):\n",
    "            sum += 1\n",
    "            continue\n",
    "        sum += 1\n",
    "print(sum)"
   ]
  },
  {
   "cell_type": "code",
   "execution_count": 6,
   "metadata": {},
   "outputs": [
    {
     "name": "stdout",
     "output_type": "stream",
     "text": [
      "a"
     ]
    }
   ],
   "source": [
    "n = int(input())\n",
    "\n",
    "if n<10:\n",
    "    print(\"t\",end='')\n",
    "if n%4==0:\n",
    "    print(\"a\",end='')\n",
    "elif n/4>n//4:\n",
    "    print(\"r\",end='')\n",
    "else:\n",
    "    print(\"t\",end='')"
   ]
  },
  {
   "cell_type": "code",
   "execution_count": 7,
   "metadata": {},
   "outputs": [
    {
     "name": "stdout",
     "output_type": "stream",
     "text": [
      "86\n"
     ]
    }
   ],
   "source": [
    "a = 1\n",
    "b = 1\n",
    "s = 0\n",
    "\n",
    "for i in range(7):\n",
    "    temp = a + b\n",
    "    a = b\n",
    "    b = temp\n",
    "    s +=b\n",
    "\n",
    "print(s)"
   ]
  },
  {
   "cell_type": "code",
   "execution_count": 8,
   "metadata": {},
   "outputs": [
    {
     "name": "stdout",
     "output_type": "stream",
     "text": [
      "11\n",
      "88\n",
      "121\n",
      "222\n",
      "242\n",
      "5\n"
     ]
    }
   ],
   "source": [
    "same = 0\n",
    "p_list = [11,23,88,120,121,222,223,242,255,1001,1200]\n",
    "\n",
    "for i in p_list:\n",
    "    if i<100 and i//10 == i%10:\n",
    "        same += 1\n",
    "    elif i>100 and i//100 == i%10:\n",
    "        same += 1\n",
    "    else:\n",
    "        continue\n",
    "\n",
    "    if same<3 or i>100:\n",
    "        print(i)\n",
    "    else:\n",
    "        break\n",
    "\n",
    "print(same)"
   ]
  },
  {
   "cell_type": "code",
   "execution_count": 9,
   "metadata": {},
   "outputs": [
    {
     "name": "stdout",
     "output_type": "stream",
     "text": [
      "1\n"
     ]
    }
   ],
   "source": [
    "a = int(input())\n",
    "b = int(input())\n",
    "\n",
    "for i in range(1,min(a,b),1):\n",
    "    if a%i==0 and b%i==0:\n",
    "        gcd = i\n",
    "\n",
    "print(gcd)"
   ]
  },
  {
   "cell_type": "code",
   "execution_count": 10,
   "metadata": {},
   "outputs": [
    {
     "name": "stdout",
     "output_type": "stream",
     "text": [
      "['김치', '돼지고기', '소고기']\n"
     ]
    }
   ],
   "source": [
    "menu = {\"김치라면\":2000, \"돼지고기라면\":4000, \"소고기라면\":5000}\n",
    "food = []\n",
    "\n",
    "for i in menu.keys():\n",
    "    food.append(i[:-2])\n",
    "\n",
    "print(food)"
   ]
  },
  {
   "cell_type": "code",
   "execution_count": 12,
   "metadata": {},
   "outputs": [
    {
     "name": "stdout",
     "output_type": "stream",
     "text": [
      "False\n"
     ]
    }
   ],
   "source": [
    "x=input(\"문자열 1 입력:\")\n",
    "y=input(\"문자열 2 입력:\")\n",
    "\n",
    "compare = False\n",
    "for i in range(len(x)):\n",
    "    if x[0]==y[i]:\n",
    "        if y[i:len(y)]+y[0:i] == x:\n",
    "            compare = True\n",
    "            break\n",
    "        else:\n",
    "            continue\n",
    "\n",
    "print(compare)"
   ]
  },
  {
   "cell_type": "code",
   "execution_count": 15,
   "metadata": {},
   "outputs": [
    {
     "name": "stdout",
     "output_type": "stream",
     "text": [
      "6\n"
     ]
    }
   ],
   "source": [
    "def count_all_zeros(L):\n",
    "    count = 0\n",
    "    for i in L:\n",
    "        count += bin(abs(i))[2:].count('0')\n",
    "    return count\n",
    "\n",
    "print(count_all_zeros([10,20,30]))"
   ]
  },
  {
   "cell_type": "code",
   "execution_count": 18,
   "metadata": {},
   "outputs": [
    {
     "name": "stdout",
     "output_type": "stream",
     "text": [
      "-13\n",
      "15\n"
     ]
    }
   ],
   "source": [
    "def farthestFromZero(L):\n",
    "    pivot=L[0]\n",
    "    for i in L[1:]:\n",
    "        if abs(i)>abs(pivot):\n",
    "            pivot=i\n",
    "    return pivot\n",
    "\n",
    "print(farthestFromZero([-8,7,3,12,-13,1]))\n",
    "print(farthestFromZero([-8,7,3,-12,5,15]))"
   ]
  },
  {
   "cell_type": "code",
   "execution_count": 19,
   "metadata": {},
   "outputs": [
    {
     "name": "stdout",
     "output_type": "stream",
     "text": [
      "8329\n"
     ]
    }
   ],
   "source": [
    "n=9238\n",
    "result=0\n",
    "\n",
    "while n>0:\n",
    "    result = result*10 + n%10\n",
    "    n//=10\n",
    "\n",
    "print(result)"
   ]
  },
  {
   "cell_type": "code",
   "execution_count": 20,
   "metadata": {},
   "outputs": [
    {
     "name": "stdout",
     "output_type": "stream",
     "text": [
      "25\n"
     ]
    }
   ],
   "source": [
    "sum=0\n",
    "a=0\n",
    "while a<10:\n",
    "    a=a+1\n",
    "    if a%2==0:\n",
    "        continue\n",
    "    sum=sum+a\n",
    "\n",
    "print(sum)"
   ]
  },
  {
   "cell_type": "code",
   "execution_count": 22,
   "metadata": {},
   "outputs": [
    {
     "name": "stdout",
     "output_type": "stream",
     "text": [
      "힘내\n",
      "힘내\n",
      "힘내\n",
      "힘내\n",
      "힘내\n"
     ]
    }
   ],
   "source": [
    "def f(lst,i,n):\n",
    "    if lst[i]%2!=0 and n==0:\n",
    "        return\n",
    "    else:\n",
    "        print(\"힘내\")\n",
    "        lst[i]=0\n",
    "        f(lst,i-1,1-n)\n",
    "\n",
    "lst=[1,1,2,6,1,31,8,13,4,4]\n",
    "f(lst,len(lst)-1,1)"
   ]
  },
  {
   "cell_type": "code",
   "execution_count": 25,
   "metadata": {},
   "outputs": [
    {
     "name": "stdout",
     "output_type": "stream",
     "text": [
      "154 3 1\n",
      "51 3 0\n",
      "17 3 2\n",
      "5 3 2\n",
      "1 3 1\n",
      "6\n"
     ]
    }
   ],
   "source": [
    "def fnum(k,b):\n",
    "    if k<b:\n",
    "        return k\n",
    "    return k%b+fnum(k//b,b)\n",
    "\n",
    "print(fnum(154,3))"
   ]
  },
  {
   "cell_type": "code",
   "execution_count": 27,
   "metadata": {},
   "outputs": [
    {
     "name": "stdout",
     "output_type": "stream",
     "text": [
      "TrueTrueTrueTrueTrueTrueTrueTrueTrueTrue\n",
      "TrueTrueTrueTrueTrueTrueTrueTrueTrueTrue\n",
      "TrueTrueTrueTrueTrueTrueTrueTrueTrueTrue\n",
      "TrueTrueTrueTrueTrueTrueTrueTrueTrueTrue\n",
      "TrueTrueTrueTrueTrueTrueTrueTrueTrueTrue\n",
      "TrueTrueTrueTrueTrueTrueTrueTrueTrueTrue\n",
      "TrueTrueTrueTrueTrueTrueTrueTrueTrueTrue\n",
      "TrueTrueTrueTrueTrueTrueTrueTrueTrueTrue\n",
      "TrueTrueTrueTrueTrueTrueTrueTrueTrueTrue\n",
      "TrueTrueTrueTrueTrueTrueTrueTrueTrueTrue\n"
     ]
    }
   ],
   "source": [
    "def fun_(x,y):\n",
    "    sum=0\n",
    "    while x>=0:\n",
    "        x-=1\n",
    "        sum+=y\n",
    "        y*=2\n",
    "    return sum\n",
    "\n",
    "def fun(x,y):\n",
    "    if x<=0:\n",
    "        return y\n",
    "    else:\n",
    "        return y+fun(x-1,y*2)\n",
    "\n",
    "for i in range(10):\n",
    "    for j in range(10):\n",
    "        print(fun_(i,j)==fun(i,j),end='')\n",
    "    print()"
   ]
  },
  {
   "cell_type": "code",
   "execution_count": 28,
   "metadata": {},
   "outputs": [
    {
     "name": "stdout",
     "output_type": "stream",
     "text": [
      "121"
     ]
    }
   ],
   "source": [
    "def A(x,y):\n",
    "    if x<=y-1:\n",
    "        print(x,end='')\n",
    "    else:\n",
    "        A(x//y,y)\n",
    "        print(x%y,end='')\n",
    "\n",
    "A(16,3)"
   ]
  },
  {
   "cell_type": "code",
   "execution_count": 30,
   "metadata": {},
   "outputs": [
    {
     "name": "stdout",
     "output_type": "stream",
     "text": [
      "12\n"
     ]
    }
   ],
   "source": [
    "M,N=2,6\n",
    "def C(S):\n",
    "    L=2\n",
    "    p=S[0]\n",
    "    for x in S:\n",
    "        if x!=p:\n",
    "            p=x\n",
    "            L+=2\n",
    "    return L\n",
    "\n",
    "def make(S):\n",
    "    if len(S)==N:\n",
    "        return 1 if len(S)>C(S) else 0\n",
    "    cnt=0\n",
    "    for i in range(M):\n",
    "        cnt+=make(S+str(i))\n",
    "    return cnt\n",
    "\n",
    "print(make(''))"
   ]
  },
  {
   "cell_type": "code",
   "execution_count": 31,
   "metadata": {},
   "outputs": [
    {
     "name": "stdout",
     "output_type": "stream",
     "text": [
      "21\n"
     ]
    }
   ],
   "source": [
    "def A(x,y):\n",
    "    if x==1 or y==1:\n",
    "        return y\n",
    "    return A(x-1,y//2)+A(x//2,y-1)\n",
    "\n",
    "print(A(5,11))"
   ]
  },
  {
   "cell_type": "code",
   "execution_count": 34,
   "metadata": {},
   "outputs": [
    {
     "name": "stdout",
     "output_type": "stream",
     "text": [
      "[5, 6, 2, 7, 3, 1, 4]\n",
      "[5, 6, 2, 3, 7, 1, 4]\n",
      "[5, 6, 2, 3, 1, 7, 4]\n",
      "[5, 6, 2, 3, 1, 4, 7]\n",
      "[5, 2, 6, 3, 1, 4, 7]\n",
      "[5, 2, 3, 6, 1, 4, 7]\n",
      "[5, 2, 3, 1, 6, 4, 7]\n",
      "[5, 2, 3, 1, 4, 6, 7]\n",
      "[2, 5, 3, 1, 4, 6, 7]\n",
      "[2, 3, 5, 1, 4, 6, 7]\n",
      "[2, 3, 1, 5, 4, 6, 7]\n",
      "[2, 3, 1, 4, 5, 6, 7]\n",
      "[2, 1, 3, 4, 5, 6, 7]\n",
      "[1, 2, 3, 4, 5, 6, 7]\n",
      "2\n"
     ]
    }
   ],
   "source": [
    "data=[5,6,7,2,3,1,4]\n",
    "for i in range(len(data)-1,0,-1):\n",
    "    for j in range(i):\n",
    "        if data[j]>data[j+1]:\n",
    "            temp=data[j]\n",
    "            data[j]=data[j+1]\n",
    "            data[j+1]=temp\n",
    "            print(data)\n",
    "print(temp)"
   ]
  },
  {
   "cell_type": "code",
   "execution_count": 35,
   "metadata": {},
   "outputs": [
    {
     "name": "stdout",
     "output_type": "stream",
     "text": [
      "[6, 7, 9, 4, 7]\n",
      "[6, 7, 9, 4, 7]\n",
      "[6, 7, 9, 4, 7]\n",
      "[4, 6, 7, 9, 7]\n",
      "[4, 6, 7, 7, 9]\n"
     ]
    }
   ],
   "source": [
    "L=[6,7,9,4,7]\n",
    "for i in range(len(L)):\n",
    "    key=L[i]\n",
    "    j=i\n",
    "    while L[j-1]>=key and j>0:\n",
    "        L[j]=L[j-1]\n",
    "        j=j-1\n",
    "    L[j]=key\n",
    "    print(L)"
   ]
  }
 ],
 "metadata": {
  "kernelspec": {
   "display_name": "base",
   "language": "python",
   "name": "python3"
  },
  "language_info": {
   "codemirror_mode": {
    "name": "ipython",
    "version": 3
   },
   "file_extension": ".py",
   "mimetype": "text/x-python",
   "name": "python",
   "nbconvert_exporter": "python",
   "pygments_lexer": "ipython3",
   "version": "3.9.12"
  },
  "orig_nbformat": 4
 },
 "nbformat": 4,
 "nbformat_minor": 2
}
